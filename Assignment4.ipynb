{
 "cells": [
  {
   "cell_type": "markdown",
   "metadata": {
    "id": "9LEgnz_jkhB5"
   },
   "source": [
    "# Colab Start Section"
   ]
  },
  {
   "cell_type": "markdown",
   "metadata": {
    "id": "0MAwGlg-khB6"
   },
   "source": [
    "Step 1 is to upload a copy of your private key. I am assuming your private key is named id_ed25519. If that isn't the case, you'll have to make manual changes."
   ]
  },
  {
   "cell_type": "code",
   "execution_count": 1,
   "metadata": {
    "id": "SVQ4mjKnkhB7"
   },
   "outputs": [],
   "source": [
    "# Change these of course to what is your email and your GitHub username\n",
    "EMAIL = \"michael.murray.iv@gmail.com\"\n",
    "USERNAME = \"michaelmurrayiv\"\n",
    "ORG = \"anderson-fall-2024\""
   ]
  },
  {
   "cell_type": "code",
   "execution_count": 2,
   "metadata": {
    "colab": {
     "base_uri": "https://localhost:8080/",
     "height": 74
    },
    "id": "pOJnkrUCkhB7",
    "outputId": "6f373114-4044-41e5-c3ae-73eddaa53d3c"
   },
   "outputs": [
    {
     "data": {
      "text/html": [
       "\n",
       "     <input type=\"file\" id=\"files-b28a5013-808b-4fa8-815c-654508930750\" name=\"files[]\" multiple disabled\n",
       "        style=\"border:none\" />\n",
       "     <output id=\"result-b28a5013-808b-4fa8-815c-654508930750\">\n",
       "      Upload widget is only available when the cell has been executed in the\n",
       "      current browser session. Please rerun this cell to enable.\n",
       "      </output>\n",
       "      <script>// Copyright 2017 Google LLC\n",
       "//\n",
       "// Licensed under the Apache License, Version 2.0 (the \"License\");\n",
       "// you may not use this file except in compliance with the License.\n",
       "// You may obtain a copy of the License at\n",
       "//\n",
       "//      http://www.apache.org/licenses/LICENSE-2.0\n",
       "//\n",
       "// Unless required by applicable law or agreed to in writing, software\n",
       "// distributed under the License is distributed on an \"AS IS\" BASIS,\n",
       "// WITHOUT WARRANTIES OR CONDITIONS OF ANY KIND, either express or implied.\n",
       "// See the License for the specific language governing permissions and\n",
       "// limitations under the License.\n",
       "\n",
       "/**\n",
       " * @fileoverview Helpers for google.colab Python module.\n",
       " */\n",
       "(function(scope) {\n",
       "function span(text, styleAttributes = {}) {\n",
       "  const element = document.createElement('span');\n",
       "  element.textContent = text;\n",
       "  for (const key of Object.keys(styleAttributes)) {\n",
       "    element.style[key] = styleAttributes[key];\n",
       "  }\n",
       "  return element;\n",
       "}\n",
       "\n",
       "// Max number of bytes which will be uploaded at a time.\n",
       "const MAX_PAYLOAD_SIZE = 100 * 1024;\n",
       "\n",
       "function _uploadFiles(inputId, outputId) {\n",
       "  const steps = uploadFilesStep(inputId, outputId);\n",
       "  const outputElement = document.getElementById(outputId);\n",
       "  // Cache steps on the outputElement to make it available for the next call\n",
       "  // to uploadFilesContinue from Python.\n",
       "  outputElement.steps = steps;\n",
       "\n",
       "  return _uploadFilesContinue(outputId);\n",
       "}\n",
       "\n",
       "// This is roughly an async generator (not supported in the browser yet),\n",
       "// where there are multiple asynchronous steps and the Python side is going\n",
       "// to poll for completion of each step.\n",
       "// This uses a Promise to block the python side on completion of each step,\n",
       "// then passes the result of the previous step as the input to the next step.\n",
       "function _uploadFilesContinue(outputId) {\n",
       "  const outputElement = document.getElementById(outputId);\n",
       "  const steps = outputElement.steps;\n",
       "\n",
       "  const next = steps.next(outputElement.lastPromiseValue);\n",
       "  return Promise.resolve(next.value.promise).then((value) => {\n",
       "    // Cache the last promise value to make it available to the next\n",
       "    // step of the generator.\n",
       "    outputElement.lastPromiseValue = value;\n",
       "    return next.value.response;\n",
       "  });\n",
       "}\n",
       "\n",
       "/**\n",
       " * Generator function which is called between each async step of the upload\n",
       " * process.\n",
       " * @param {string} inputId Element ID of the input file picker element.\n",
       " * @param {string} outputId Element ID of the output display.\n",
       " * @return {!Iterable<!Object>} Iterable of next steps.\n",
       " */\n",
       "function* uploadFilesStep(inputId, outputId) {\n",
       "  const inputElement = document.getElementById(inputId);\n",
       "  inputElement.disabled = false;\n",
       "\n",
       "  const outputElement = document.getElementById(outputId);\n",
       "  outputElement.innerHTML = '';\n",
       "\n",
       "  const pickedPromise = new Promise((resolve) => {\n",
       "    inputElement.addEventListener('change', (e) => {\n",
       "      resolve(e.target.files);\n",
       "    });\n",
       "  });\n",
       "\n",
       "  const cancel = document.createElement('button');\n",
       "  inputElement.parentElement.appendChild(cancel);\n",
       "  cancel.textContent = 'Cancel upload';\n",
       "  const cancelPromise = new Promise((resolve) => {\n",
       "    cancel.onclick = () => {\n",
       "      resolve(null);\n",
       "    };\n",
       "  });\n",
       "\n",
       "  // Wait for the user to pick the files.\n",
       "  const files = yield {\n",
       "    promise: Promise.race([pickedPromise, cancelPromise]),\n",
       "    response: {\n",
       "      action: 'starting',\n",
       "    }\n",
       "  };\n",
       "\n",
       "  cancel.remove();\n",
       "\n",
       "  // Disable the input element since further picks are not allowed.\n",
       "  inputElement.disabled = true;\n",
       "\n",
       "  if (!files) {\n",
       "    return {\n",
       "      response: {\n",
       "        action: 'complete',\n",
       "      }\n",
       "    };\n",
       "  }\n",
       "\n",
       "  for (const file of files) {\n",
       "    const li = document.createElement('li');\n",
       "    li.append(span(file.name, {fontWeight: 'bold'}));\n",
       "    li.append(span(\n",
       "        `(${file.type || 'n/a'}) - ${file.size} bytes, ` +\n",
       "        `last modified: ${\n",
       "            file.lastModifiedDate ? file.lastModifiedDate.toLocaleDateString() :\n",
       "                                    'n/a'} - `));\n",
       "    const percent = span('0% done');\n",
       "    li.appendChild(percent);\n",
       "\n",
       "    outputElement.appendChild(li);\n",
       "\n",
       "    const fileDataPromise = new Promise((resolve) => {\n",
       "      const reader = new FileReader();\n",
       "      reader.onload = (e) => {\n",
       "        resolve(e.target.result);\n",
       "      };\n",
       "      reader.readAsArrayBuffer(file);\n",
       "    });\n",
       "    // Wait for the data to be ready.\n",
       "    let fileData = yield {\n",
       "      promise: fileDataPromise,\n",
       "      response: {\n",
       "        action: 'continue',\n",
       "      }\n",
       "    };\n",
       "\n",
       "    // Use a chunked sending to avoid message size limits. See b/62115660.\n",
       "    let position = 0;\n",
       "    do {\n",
       "      const length = Math.min(fileData.byteLength - position, MAX_PAYLOAD_SIZE);\n",
       "      const chunk = new Uint8Array(fileData, position, length);\n",
       "      position += length;\n",
       "\n",
       "      const base64 = btoa(String.fromCharCode.apply(null, chunk));\n",
       "      yield {\n",
       "        response: {\n",
       "          action: 'append',\n",
       "          file: file.name,\n",
       "          data: base64,\n",
       "        },\n",
       "      };\n",
       "\n",
       "      let percentDone = fileData.byteLength === 0 ?\n",
       "          100 :\n",
       "          Math.round((position / fileData.byteLength) * 100);\n",
       "      percent.textContent = `${percentDone}% done`;\n",
       "\n",
       "    } while (position < fileData.byteLength);\n",
       "  }\n",
       "\n",
       "  // All done.\n",
       "  yield {\n",
       "    response: {\n",
       "      action: 'complete',\n",
       "    }\n",
       "  };\n",
       "}\n",
       "\n",
       "scope.google = scope.google || {};\n",
       "scope.google.colab = scope.google.colab || {};\n",
       "scope.google.colab._files = {\n",
       "  _uploadFiles,\n",
       "  _uploadFilesContinue,\n",
       "};\n",
       "})(self);\n",
       "</script> "
      ],
      "text/plain": [
       "<IPython.core.display.HTML object>"
      ]
     },
     "metadata": {},
     "output_type": "display_data"
    },
    {
     "name": "stdout",
     "output_type": "stream",
     "text": [
      "Saving id_ed25519 to id_ed25519\n"
     ]
    }
   ],
   "source": [
    "from google.colab import files\n",
    "uploaded = files.upload()"
   ]
  },
  {
   "cell_type": "code",
   "execution_count": 3,
   "metadata": {
    "id": "A7MwtCjjkhB8"
   },
   "outputs": [],
   "source": [
    "%%bash -s \"$EMAIL\" \"$USERNAME\"\n",
    "\n",
    "rm -rf /root/.ssh/*\n",
    "mkdir /root/.ssh\n",
    "\n",
    "mv id_ed25519 /root/.ssh/\n",
    "\n",
    "chmod 600 /root/.ssh/id_ed25519\n",
    "\n",
    "git config --global user.email \"$1\"\n",
    "git config --global user.name \"$2\""
   ]
  },
  {
   "cell_type": "code",
   "execution_count": 8,
   "metadata": {
    "colab": {
     "base_uri": "https://localhost:8080/"
    },
    "id": "-aJZXbdlkhB9",
    "outputId": "18bf0c90-2f5a-4b65-d63b-a79d55db3f84"
   },
   "outputs": [
    {
     "name": "stdout",
     "output_type": "stream",
     "text": [
      "Agent pid 726\n"
     ]
    },
    {
     "name": "stderr",
     "output_type": "stream",
     "text": [
      "Identity added: /root/.ssh/id_ed25519 (pauleanderson@gmail.com)\n",
      "# github.com:22 SSH-2.0-babeld-cd94d92b7\n",
      "Cloning into 'csc-487-instructor'...\n"
     ]
    }
   ],
   "source": [
    "%%bash -s \"$USERNAME\" \"$ORG\"\n",
    "\n",
    "eval \"$(ssh-agent -s)\"\n",
    "\n",
    "ssh-add ~/.ssh/id_ed25519\n",
    "\n",
    "ssh-keyscan -t rsa github.com >> ~/.ssh/known_hosts\n",
    "\n",
    "git clone git@github.com:$2/csc-487-$1.git"
   ]
  },
  {
   "cell_type": "code",
   "execution_count": 2,
   "metadata": {
    "id": "2Wc0Nqr5khB9"
   },
   "outputs": [],
   "source": [
    "%load_ext autoreload\n",
    "%autoreload 2\n",
    "\n",
    "\n",
    "from pathlib import Path\n",
    "home = str(Path.home()) # all other paths are relative to this path. change to something else if this is not the case on your system\n",
    "\n",
    "import sys\n",
    "sys.path.insert(0,f\"csc-487-{USERNAME}\")\n",
    "sys.path.insert(0,\"..\")\n",
    "\n",
    "import py487"
   ]
  },
  {
   "cell_type": "code",
   "execution_count": 3,
   "metadata": {
    "id": "MKLZUvRxZunS"
   },
   "outputs": [],
   "source": [
    "# For tips on running notebooks in Google Colab, see\n",
    "# https://pytorch.org/tutorials/beginner/colab\n",
    "%matplotlib inline"
   ]
  },
  {
   "cell_type": "markdown",
   "metadata": {
    "id": "xAjgpcCeZunT"
   },
   "source": [
    "Exercises\n",
    "========================"
   ]
  },
  {
   "cell_type": "code",
   "execution_count": 4,
   "metadata": {},
   "outputs": [
    {
     "data": {
      "text/html": [
       "<div>\n",
       "<style scoped>\n",
       "    .dataframe tbody tr th:only-of-type {\n",
       "        vertical-align: middle;\n",
       "    }\n",
       "\n",
       "    .dataframe tbody tr th {\n",
       "        vertical-align: top;\n",
       "    }\n",
       "\n",
       "    .dataframe thead th {\n",
       "        text-align: right;\n",
       "    }\n",
       "</style>\n",
       "<table border=\"1\" class=\"dataframe\">\n",
       "  <thead>\n",
       "    <tr style=\"text-align: right;\">\n",
       "      <th></th>\n",
       "      <th>X1</th>\n",
       "      <th>X2</th>\n",
       "      <th>t</th>\n",
       "    </tr>\n",
       "  </thead>\n",
       "  <tbody>\n",
       "    <tr>\n",
       "      <th>0</th>\n",
       "      <td>0</td>\n",
       "      <td>0</td>\n",
       "      <td>1.00</td>\n",
       "    </tr>\n",
       "    <tr>\n",
       "      <th>1</th>\n",
       "      <td>0</td>\n",
       "      <td>1</td>\n",
       "      <td>1.50</td>\n",
       "    </tr>\n",
       "    <tr>\n",
       "      <th>2</th>\n",
       "      <td>1</td>\n",
       "      <td>0</td>\n",
       "      <td>1.75</td>\n",
       "    </tr>\n",
       "    <tr>\n",
       "      <th>3</th>\n",
       "      <td>1</td>\n",
       "      <td>1</td>\n",
       "      <td>2.25</td>\n",
       "    </tr>\n",
       "  </tbody>\n",
       "</table>\n",
       "</div>"
      ],
      "text/plain": [
       "   X1  X2     t\n",
       "0   0   0  1.00\n",
       "1   0   1  1.50\n",
       "2   1   0  1.75\n",
       "3   1   1  2.25"
      ]
     },
     "execution_count": 4,
     "metadata": {},
     "output_type": "execute_result"
    }
   ],
   "source": [
    "import pandas as pd\n",
    "data = pd.DataFrame([[0,0,1],[0,1,1.5],[1,0,1.75],[1,1,2.25]],columns=['X1','X2','t'])\n",
    "data"
   ]
  },
  {
   "cell_type": "code",
   "execution_count": 5,
   "metadata": {},
   "outputs": [
    {
     "data": {
      "text/html": [
       "<div>\n",
       "<style scoped>\n",
       "    .dataframe tbody tr th:only-of-type {\n",
       "        vertical-align: middle;\n",
       "    }\n",
       "\n",
       "    .dataframe tbody tr th {\n",
       "        vertical-align: top;\n",
       "    }\n",
       "\n",
       "    .dataframe thead th {\n",
       "        text-align: right;\n",
       "    }\n",
       "</style>\n",
       "<table border=\"1\" class=\"dataframe\">\n",
       "  <thead>\n",
       "    <tr style=\"text-align: right;\">\n",
       "      <th></th>\n",
       "      <th>X1</th>\n",
       "      <th>X2</th>\n",
       "    </tr>\n",
       "  </thead>\n",
       "  <tbody>\n",
       "    <tr>\n",
       "      <th>0</th>\n",
       "      <td>0</td>\n",
       "      <td>0</td>\n",
       "    </tr>\n",
       "    <tr>\n",
       "      <th>1</th>\n",
       "      <td>0</td>\n",
       "      <td>1</td>\n",
       "    </tr>\n",
       "    <tr>\n",
       "      <th>2</th>\n",
       "      <td>1</td>\n",
       "      <td>0</td>\n",
       "    </tr>\n",
       "    <tr>\n",
       "      <th>3</th>\n",
       "      <td>1</td>\n",
       "      <td>1</td>\n",
       "    </tr>\n",
       "  </tbody>\n",
       "</table>\n",
       "</div>"
      ],
      "text/plain": [
       "   X1  X2\n",
       "0   0   0\n",
       "1   0   1\n",
       "2   1   0\n",
       "3   1   1"
      ]
     },
     "execution_count": 5,
     "metadata": {},
     "output_type": "execute_result"
    }
   ],
   "source": [
    "X = data.iloc[:,:2]\n",
    "X"
   ]
  },
  {
   "cell_type": "markdown",
   "metadata": {},
   "source": [
    "Because this is a learning exercise, here are the answers we are going to hunt for using gradient descent. In other words, your last theta should be w and b given below."
   ]
  },
  {
   "cell_type": "code",
   "execution_count": 6,
   "metadata": {},
   "outputs": [
    {
     "data": {
      "text/plain": [
       "array([1.  , 1.5 , 1.75, 2.25])"
      ]
     },
     "execution_count": 6,
     "metadata": {},
     "output_type": "execute_result"
    }
   ],
   "source": [
    "import numpy as np\n",
    "w = np.array([0.75,0.5])\n",
    "b = 1\n",
    "y = np.dot(X,w)+b\n",
    "y"
   ]
  },
  {
   "cell_type": "markdown",
   "metadata": {},
   "source": [
    "Our y functions are:\n",
    "\n",
    "$y_1 = 0*w_1+0*w_2+b$\n",
    "\n",
    "$y_2 = 0*w_1+1*w_2+b$\n",
    "\n",
    "$y_3 = 1*w_1+0*w_2+b$\n",
    "\n",
    "$y_4 = 1*w_1+1*w_2+b$"
   ]
  },
  {
   "cell_type": "markdown",
   "metadata": {},
   "source": [
    "Our Loss functions are:\n",
    "\n",
    "$L_1 = (b - 1)^2$\n",
    "\n",
    "$L_2 = (1*w_2+b - 1.5)^2$\n",
    "\n",
    "$L_3 = (1*w_1+b - 1.75)^2$\n",
    "\n",
    "$L_4 = (1*w_1+1*w_2+b - 2.25)^2$"
   ]
  },
  {
   "cell_type": "markdown",
   "metadata": {},
   "source": [
    "Our derivatives are:\n",
    "\n",
    "$\\frac{\\delta L_1}{\\delta w1} = 0$\n",
    "\n",
    "$\\frac{\\delta L_2}{\\delta w1} = 0$\n",
    "\n",
    "$\\frac{\\delta L_3}{\\delta w1} = 2(w_1+b-1.75)$\n",
    "\n",
    "$\\frac{\\delta L_4}{\\delta w1} = 2(w_1+w_2+b-2.25)$"
   ]
  },
  {
   "cell_type": "markdown",
   "metadata": {},
   "source": [
    "$\\frac{\\delta L_1}{\\delta w2} = 0$\n",
    "\n",
    "$\\frac{\\delta L_2}{\\delta w2} = 2(w_2+b-1.5)$\n",
    "\n",
    "$\\frac{\\delta L_3}{\\delta w2} = 0$\n",
    "\n",
    "$\\frac{\\delta L_4}{\\delta w2} = 2(w_1+w_2+b-2.25)$"
   ]
  },
  {
   "cell_type": "markdown",
   "metadata": {},
   "source": [
    "$\\frac{\\delta L_1}{\\delta b} = 2(b-1)$\n",
    "\n",
    "$\\frac{\\delta L_2}{\\delta b} = 2(w_2+b-1.5)$\n",
    "\n",
    "$\\frac{\\delta L_3}{\\delta b} = 2(w_1+b-1.75)$\n",
    "\n",
    "$\\frac{\\delta L_4}{\\delta b} = 2(w_1+w_2+b-2.25)$"
   ]
  },
  {
   "cell_type": "markdown",
   "metadata": {},
   "source": [
    "## Gradient descent"
   ]
  },
  {
   "cell_type": "markdown",
   "metadata": {},
   "source": [
    "Our first take on gradient descent will assume you can symbolically find the gradient of a function. So you can use the derivatives I supplied above:\n",
    "\n",
    "Gradient descent says:\n",
    "\n",
    "$w_1 = w_1 - \\alpha \\frac{1}{4} \\left(\\sum_{i=1}^4\\frac{dF_i}{dw_1}\\right)$\n",
    "\n",
    "$w_2 = w_2 - \\alpha \\frac{1}{4} \\left(\\sum_{i=1}^4\\frac{dF_i}{dw_2}\\right)$\n",
    "\n",
    "$b = b - \\alpha \\frac{1}{4} \\left(\\sum_{i=1}^4\\frac{dF_i}{db}\\right)$\n",
    "\n",
    "We will set $\\alpha=0.1$.\n",
    "\n",
    "We will now define the derivatives programmatically:"
   ]
  },
  {
   "cell_type": "code",
   "execution_count": 7,
   "metadata": {},
   "outputs": [
    {
     "name": "stdout",
     "output_type": "stream",
     "text": [
      "This should be all zeros: [0, 0, 0.0, 0.0]\n",
      "This should be non-zero: [0, 0, -2.926025442982376, -4.442400020765511]\n",
      "This should be non-zero: [0, 0, 2.5355303743552327, 3.432137197518486]\n"
     ]
    }
   ],
   "source": [
    "import random\n",
    "gradients_w1 = [lambda w1,w2,b: 0, lambda w1,w2,b: 0, lambda w1,w2,b: 2*(w1+b-1.75), lambda w1,w2,b: 2*(w1+w2+b-2.25)]\n",
    "print('This should be all zeros:',[gradients_w1[i](0.75,0.5,1) for i in range(4)])\n",
    "print('This should be non-zero:',[gradients_w1[i](0.75-random.random(),0.5-random.random(),1-random.random()) for i in range(4)])\n",
    "print('This should be non-zero:',[gradients_w1[i](0.75+random.random(),0.5+random.random(),1+random.random()) for i in range(4)])"
   ]
  },
  {
   "cell_type": "code",
   "execution_count": 8,
   "metadata": {},
   "outputs": [
    {
     "name": "stdout",
     "output_type": "stream",
     "text": [
      "This should be all zeros: [0, 0.0, 0, 0.0]\n",
      "This should be non-zero: [0, -3.7466634782262265, 0, -4.3704950511396214]\n",
      "This should be non-zero: [0, 2.595405320758542, 0, 2.13950036374942]\n"
     ]
    }
   ],
   "source": [
    "import random\n",
    "gradients_w2 = [lambda w1,w2,b: 0, lambda w1,w2,b: 2*(w2+b-1.5), lambda w1,w2,b: 0, lambda w1,w2,b: 2*(w1+w2+b-2.25)]\n",
    "print('This should be all zeros:',[gradients_w2[i](0.75,0.5,1) for i in range(4)])\n",
    "print('This should be non-zero:',[gradients_w2[i](0.75-random.random(),0.5-random.random(),1-random.random()) for i in range(4)])\n",
    "print('This should be non-zero:',[gradients_w2[i](0.75+random.random(),0.5+random.random(),1+random.random()) for i in range(4)])"
   ]
  },
  {
   "cell_type": "code",
   "execution_count": 9,
   "metadata": {},
   "outputs": [
    {
     "name": "stdout",
     "output_type": "stream",
     "text": [
      "This should be all zeros: [0, 0.0, 0.0, 0.0]\n",
      "This should be non-zero: [-0.5263713351804915, -1.6536549887850418, -0.7803933143618815, -2.89325814097763]\n",
      "This should be non-zero: [0.9809002420383983, 1.9924939485126858, 2.2339298112153383, 3.2178543607676486]\n"
     ]
    }
   ],
   "source": [
    "import random\n",
    "gradients_b = [lambda w1,w2,b: 2*(b-1), lambda w1,w2,b: 2*(w2+b-1.5), lambda w1,w2,b: 2*(w2+b-1.5), lambda w1,w2,b: 2*(w1+w2+b-2.25)]\n",
    "print('This should be all zeros:',[gradients_b[i](0.75,0.5,1) for i in range(4)])\n",
    "print('This should be non-zero:',[gradients_b[i](0.75-random.random(),0.5-random.random(),1-random.random()) for i in range(4)])\n",
    "print('This should be non-zero:',[gradients_b[i](0.75+random.random(),0.5+random.random(),1+random.random()) for i in range(4)])"
   ]
  },
  {
   "cell_type": "code",
   "execution_count": 10,
   "metadata": {},
   "outputs": [
    {
     "data": {
      "text/plain": [
       "0                                       [0.5, -0.2, 2.5]\n",
       "1                 [0.41000000000000003, -0.2675, 2.3175]\n",
       "2                          [0.350625, -0.3055, 2.186125]\n",
       "3                    [0.312225, -0.32359375, 2.08969375]\n",
       "4      [0.28821281249999997, -0.328315, 2.01718281249...\n",
       "                             ...                        \n",
       "496    [0.7499998348770656, 0.49999983487304656, 1.00...\n",
       "497    [0.7499998400594908, 0.4999998400556728, 1.000...\n",
       "498    [0.7499998450792664, 0.4999998450756393, 1.000...\n",
       "499    [0.749999849941497, 0.4999998499380513, 1.0000...\n",
       "500    [0.7499998546511271, 0.4999998546478536, 1.000...\n",
       "Length: 501, dtype: object"
      ]
     },
     "execution_count": 10,
     "metadata": {},
     "output_type": "execute_result"
    }
   ],
   "source": [
    "thetas = py487.gradient_descent.minimize_gradient_descent([gradients_w1,gradients_w2,gradients_b],0.1,[0.5,-0.2,2.5])\n",
    "pd.Series(thetas)\n",
    "# please note that I only add the pd.Series, so the output is nicely formatted"
   ]
  },
  {
   "cell_type": "code",
   "execution_count": 11,
   "metadata": {},
   "outputs": [
    {
     "name": "stdout",
     "output_type": "stream",
     "text": [
      "This should be all zeros, but is it...: [0, 0, 0.0, 0.0]\n",
      "This should be all zeros, but is it...: [0, 0.0, 0, 0.0]\n",
      "This should be all zeros, but is it...: [0, 0.0, 0.0, 0.0]\n"
     ]
    }
   ],
   "source": [
    "print('This should be all zeros, but is it...:',[gradients_w1[i](0.75,0.5,1) for i in range(4)])\n",
    "print('This should be all zeros, but is it...:',[gradients_w2[i](0.75,0.5,1) for i in range(4)])\n",
    "print('This should be all zeros, but is it...:',[gradients_b[i](0.75,0.5,1) for i in range(4)])"
   ]
  },
  {
   "cell_type": "code",
   "execution_count": 12,
   "metadata": {},
   "outputs": [
    {
     "data": {
      "text/plain": [
       "array([1.00000017, 1.50000003, 1.75000003, 2.24999988])"
      ]
     },
     "execution_count": 12,
     "metadata": {},
     "output_type": "execute_result"
    }
   ],
   "source": [
    "import numpy as np\n",
    "w_predicted = np.array(thetas[-1][:2])\n",
    "b_predicted = thetas[-1][-1]\n",
    "y = np.dot(X,w_predicted)+b_predicted\n",
    "y"
   ]
  },
  {
   "cell_type": "markdown",
   "metadata": {},
   "source": [
    "Now what if you can't or don't want to find the derivatives symbolically? \n",
    "You can always estimate the gradient analytically using the difference quotient:\n",
    "\n",
    "$[L(\\theta+h)-L(\\theta)]/h$,\n",
    "\n",
    "where h is a scalar parameter. Let's give it a shot with our functions. As a reminder, they are:\n",
    "\n",
    "$L_1 = (b - 1)^2$\n",
    "\n",
    "$L_2 = (1*w_2+b - 1.5)^2$\n",
    "\n",
    "$L_3 = (1*w_1+b - 1.75)^2$\n",
    "\n",
    "$L_4 = (1*w_1+1*w_2+b - 2.25)^2$"
   ]
  },
  {
   "cell_type": "code",
   "execution_count": 13,
   "metadata": {},
   "outputs": [
    {
     "data": {
      "text/plain": [
       "0"
      ]
     },
     "execution_count": 13,
     "metadata": {},
     "output_type": "execute_result"
    }
   ],
   "source": [
    "F1_func = lambda w1,w2,b: (b-1)**2\n",
    "F1_func(w[0],w[1],b)"
   ]
  },
  {
   "cell_type": "code",
   "execution_count": 14,
   "metadata": {},
   "outputs": [
    {
     "data": {
      "text/plain": [
       "np.float64(0.0)"
      ]
     },
     "execution_count": 14,
     "metadata": {},
     "output_type": "execute_result"
    }
   ],
   "source": [
    "F2_func = lambda w1,w2,b: (w2+b-1.5)**2\n",
    "F2_func(w[0],w[1],b)"
   ]
  },
  {
   "cell_type": "code",
   "execution_count": 15,
   "metadata": {},
   "outputs": [
    {
     "data": {
      "text/plain": [
       "np.float64(0.0)"
      ]
     },
     "execution_count": 15,
     "metadata": {},
     "output_type": "execute_result"
    }
   ],
   "source": [
    "F3_func = lambda w1,w2,b: (w1+b-1.75)**2\n",
    "F3_func(w[0],w[1],b)"
   ]
  },
  {
   "cell_type": "code",
   "execution_count": 16,
   "metadata": {},
   "outputs": [
    {
     "data": {
      "text/plain": [
       "np.float64(0.0)"
      ]
     },
     "execution_count": 16,
     "metadata": {},
     "output_type": "execute_result"
    }
   ],
   "source": [
    "F4_func = lambda w1,w2,b: (w1+w2+b-2.25)**2\n",
    "F4_func(w[0],w[1],b)"
   ]
  },
  {
   "cell_type": "code",
   "execution_count": 17,
   "metadata": {},
   "outputs": [
    {
     "data": {
      "text/plain": [
       "np.float64(0.0)"
      ]
     },
     "execution_count": 17,
     "metadata": {},
     "output_type": "execute_result"
    }
   ],
   "source": [
    "R_func = lambda w1,w2,b: 1/4*(F1_func(w1,w2,b)+F2_func(w1,w2,b)+F3_func(w1,w2,b)+F4_func(w1,w2,b))\n",
    "R_func(w[0],w[1],b)"
   ]
  },
  {
   "cell_type": "code",
   "execution_count": 18,
   "metadata": {},
   "outputs": [
    {
     "name": "stdout",
     "output_type": "stream",
     "text": [
      "iteration,gradient,theta,previous theta\n",
      "0,2.0599999999999508,[0.4095000000000022, -0.2680000000000014, 2.294000000000005],[0.5, -0.2, 2.5]\n",
      "10,0.25526254996852404,[0.3175040100399055, -0.18845603148450446, 1.6736448970651698],[0.30817593425087564, -0.2112556884063983, 1.6991711520620223]\n",
      "20,0.15876377392169405,[0.4157861223593313, 0.012533390529677085, 1.4826129357364803],[0.4065519063741218, -0.004766758709724678, 1.4984893131286499]\n",
      "30,0.11483596968678081,[0.4971432023882691, 0.15538513080266153, 1.3493491614749202],[0.48987894828695583, 0.143291504512632, 1.3608327584435984]\n",
      "40,0.08346814430347793,[0.5603002897445661, 0.25536134281298334, 1.2525933382540761],[0.5547091546944632, 0.24687868424016565, 1.260940152684424]\n",
      "50,0.060677341937009216,[0.6085746621819432, 0.3256806852511477, 1.182258788550177],[0.604324767661888, 0.31969952878736635, 1.188326522743878]\n",
      "60,0.044109710356573725,[0.6450812922665422, 0.3753864531996199, 1.1311287701943042],[0.6418808187203902, 0.3711494091762614, 1.1355397412299617]\n",
      "70,0.03206578821891605,[0.6724661677272836, 0.41067414006556213, 1.0939595328587577],[0.6700731127770836, 0.40766045208053464, 1.0971661116806493]\n",
      "80,0.023310395141699653,[0.6928803913004916, 0.4358200687508982, 1.066939158285333],[0.6911009590079753, 0.43366904053471905, 1.069270197799503]\n",
      "90,0.016945615620413676,[0.7080239653789737, 0.4537966894655944, 1.0472965534025813],[0.7067065749052572, 0.4522568107859107, 1.0489911149646227]\n",
      "100,0.01231870532482221,[0.7192142913464945, 0.4666832651048017, 1.033017257401624],[0.7182423438028797, 0.46557810565372926, 1.0342491279341064]\n",
      "110,0.008955148297887185,[0.7274579034624217, 0.47594248455733856, 1.0226368472930765],[0.7267428009234905, 0.47514762312866626, 1.0235323621228651]\n",
      "120,0.006509992643103824,[0.7335157508579879, 0.4826084135810945, 1.0150907530028241],[0.7329907899896243, 0.4820356981192102, 1.0157417522671346]\n",
      "130,0.004732473746220906,[0.7379585188328512, 0.4874152624888271, 1.0096050796583302],[0.7375738342317498, 0.4870019854485665, 1.0100783270329523]\n",
      "140,0.0034402969383373026,[0.7412115535539475, 0.4908862859133047, 1.0056172402695003],[0.7409300720009099, 0.4905876850107595, 1.005961269963334]\n",
      "150,0.002500942141176574,[0.7435903395098182, 0.49339558975822645, 1.0027182592342798],[0.7433846174914496, 0.4931796177529319, 1.0029683534483975]\n",
      "160,0.0018180731796176538,[0.7453279779971937, 0.4952113741270083, 1.000610829565445],[0.7451777701643943, 0.49505502924840966, 1.0007926368834068]\n",
      "170,0.0013216579592241933,[0.7465961733984153, 0.4965263583540771, 0.9990788223687345],[0.7464865855751331, 0.4964130960547772, 0.9992109881646569]\n",
      "180,0.0009607862767922248,[0.74752109437817, 0.49747929353221015, 0.9979651215959489],[0.7474411933600101, 0.4973971924695261, 0.9980612002236281]\n",
      "190,0.0006984486895642368,[0.7481952665669571, 0.4981702388563894, 0.9971555109009294],[0.7481370410541425, 0.4981106960956501, 0.9972253557698858]\n",
      "200,0.0005077409864580676,[0.7486864349342494, 0.4986714499194279, 0.9965669601038869],[0.7486440231406024, 0.4986282494407903, 0.9966177342025327]\n",
      "210,0.0003691050082580168,[0.749044136218001, 0.4990351641360923, 0.9961391099743985],[0.7490132541772778, 0.4990038098805318, 0.9961760204752242]\n",
      "220,0.00026832284718932307,[0.7493045545513035, 0.49929918263444295, 0.9958280820491572],[0.7492820744143821, 0.49927641976505516, 0.9958549143338761]\n",
      "230,0.00019505871964084435,[0.7494940978462252, 0.4994908814811663, 0.9956019786460902],[0.7494777376654813, 0.4994743520180509, 0.9956214845180543]\n",
      "240,0.00014179897279148146,[0.7496320255423822, 0.49963009978581147, 0.9954376115757099],[0.7496201215694965, 0.49961809445731686, 0.995451791472989]\n",
      "250,0.00010308151679522522,[0.7497323755539173, 0.49973122253232255, 0.9953181240604447],[0.7497237153997443, 0.4997225016928024, 0.9953284322121243]\n",
      "260,7.493565641272798e-05,[0.7498053750674775, 0.49980468471085693, 0.9952312619762622],[0.7497990756318927, 0.49979834894071323, 0.9952387555419034]\n",
      "270,5.4474873639910734e-05,[0.7498584721128575, 0.4998580587708475, 0.9951681171225776],[0.7498538903753047, 0.4998534552784521, 0.9951735646099416]\n",
      "280,3.9600798873690074e-05,[0.7498970890513375, 0.4998968415682075, 0.9951222136356378],[0.7498937569381907, 0.4998934964296328, 0.9951261737155251]\n",
      "290,2.8788011181474213e-05,[0.7499251724730552, 0.49992502429576346, 0.9950888438518742],[0.7499227493406466, 0.49992259336455, 0.9950917226529924]\n",
      "300,2.0927597708636882e-05,[0.7499455942321256, 0.4999455055129077, 0.9950645855102392],[0.7499438322231695, 0.4999437388345191, 0.99506667827001]\n",
      "310,1.5213428364469091e-05,[0.7499604437502126, 0.49996039063073966, 0.9950469507798779],[0.7499591625490851, 0.4999591066338504, 0.9950484721227144]\n",
      "320,1.1059482593972505e-05,[0.7499712409685677, 0.49997120916397697, 0.9950341311189302],[0.7499703094133657, 0.4999702759348491, 0.9950352370671897]\n",
      "330,8.039749642307467e-06,[0.7499790914303074, 0.49997907238772404, 0.9950248117982802],[0.7499784141239889, 0.4999783940791644, 0.9950256157732444]\n",
      "340,5.8445387258465055e-06,[0.7499847991833485, 0.4999847877818506, 0.9950180370686105],[0.7499843067476683, 0.4999842947460915, 0.9950186215224831]\n",
      "350,4.248718484728124e-06,[0.7499889489546168, 0.49998894212811884, 0.995013112142876],[0.7499885909374115, 0.4999885837516243, 0.9950135370147245]\n",
      "360,3.088628480279898e-06,[0.7499919659461917, 0.4999919618589153, 0.9950095319419421],[0.7499917056606481, 0.49999170135825194, 0.9950098408047902]\n",
      "370,2.2452948868208975e-06,[0.7499941593398588, 0.4999941568926555, 0.9950069292958479],[0.7499939701101086, 0.4999939675341051, 0.9950071538253366]\n",
      "380,1.6322290495866983e-06,[0.7499957539441847, 0.4999957524789536, 0.9950050372884391],[0.749995616374355, 0.49999561483200644, 0.9950052005113441]\n",
      "390,1.1865575811899717e-06,[0.7499969132132266, 0.4999969123359387, 0.9950036618835991],[0.7499968132011638, 0.4999968122777029, 0.9950037805393572]\n",
      "400,8.62574338928121e-07,[0.7499977559877095, 0.49999775546244485, 0.9950026620257418],[0.7499976832804489, 0.49999768272753875, 0.9950027482831757]\n",
      "410,6.270529992745037e-07,[0.7499983686696663, 0.49999836835517103, 0.9950019351737591],[0.7499983158129645, 0.49999831548191687, 0.9950019978790591]\n",
      "420,4.5583951041578254e-07,[0.7499988140755829, 0.49999881388728307, 0.9950014067848478],[0.7499987756500615, 0.4999987754518511, 0.9950014523687989]\n",
      "430,3.313749542266511e-07,[0.7499991378738711, 0.49999913776112914, 0.9950010226697209],[0.7499991099395987, 0.499999109820923, 0.9950010558072163]\n",
      "440,2.408947840649414e-07,[0.7499993732656014, 0.49999937319809856, 0.9950007434351882],[0.7499993529582533, 0.49999935288719766, 0.9950007675246666]\n",
      "450,1.751197433727059e-07,[0.7499995443877707, 0.4999995443473544, 0.9950005404441609],[0.7499995296250083, 0.4999995295824648, 0.9950005579561352]\n",
      "460,1.2730422782627451e-07,[0.7499996687876777, 0.4999996687634789, 0.9950003928787546],[0.7499996580556727, 0.4999996580302003, 0.9950004056091775]\n",
      "470,9.254448515872706e-08,[0.7499997592218909, 0.49999975920740214, 0.9950002856052985],[0.7499997514201212, 0.4999997514048699, 0.9950002948597471]\n",
      "480,6.727570514564185e-08,[0.7499998249641451, 0.4999998249554703, 0.9950002076222896],[0.7499998192925582, 0.4999998192834269, 0.9950002143498601]\n",
      "490,4.890643168220521e-08,[0.7499998727561991, 0.49999987275100505, 0.9950001509321267],[0.7499998686331796, 0.49999986862771223, 0.9950001558227699]\n"
     ]
    },
    {
     "data": {
      "text/plain": [
       "0                                       [0.5, -0.2, 2.5]\n",
       "1      [0.4095000000000022, -0.2680000000000014, 2.29...\n",
       "2      [0.3520500000000022, -0.3040750000000035, 2.14...\n",
       "3      [0.3170437500000002, -0.3187750000000043, 2.03...\n",
       "4      [0.29725387500000044, -0.31927393750000405, 1....\n",
       "                             ...                        \n",
       "496    [0.7499998915095999, 0.49999989150558083, 0.99...\n",
       "497    [0.749999894914635, 0.4999998949108169, 0.9950...\n",
       "498    [0.7499998982128018, 0.4999998982091746, 0.995...\n",
       "499    [0.7499999014074543, 0.49999990140400846, 0.99...\n",
       "500    [0.7499999045018414, 0.4999999044985678, 0.995...\n",
       "Length: 501, dtype: object"
      ]
     },
     "execution_count": 18,
     "metadata": {},
     "output_type": "execute_result"
    }
   ],
   "source": [
    "thetas = py487.gradient_descent.minimize_gradient_descent_analytically(R_func,0.1,[0.5,-0.2,2.5],0.01)\n",
    "pd.Series(thetas)"
   ]
  },
  {
   "cell_type": "code",
   "execution_count": 19,
   "metadata": {},
   "outputs": [
    {
     "data": {
      "text/plain": [
       "2.4999822240924255e-05"
      ]
     },
     "execution_count": 19,
     "metadata": {},
     "output_type": "execute_result"
    }
   ],
   "source": [
    "R_func(*thetas[-1]) # Shouldn't be too bad :)"
   ]
  },
  {
   "cell_type": "code",
   "execution_count": 20,
   "metadata": {
    "id": "QsH0n-lhLnRI"
   },
   "outputs": [],
   "source": [
    "# Good job!\n",
    "# Woohoo!"
   ]
  },
  {
   "cell_type": "markdown",
   "metadata": {
    "id": "s5Ar9RvAkhCB"
   },
   "source": [
    "# Test your code"
   ]
  },
  {
   "cell_type": "code",
   "execution_count": 21,
   "metadata": {
    "colab": {
     "base_uri": "https://localhost:8080/"
    },
    "id": "LxBVRiFdkhCB",
    "outputId": "6ed719ad-3732-4e0c-9582-dc4a68e09940"
   },
   "outputs": [
    {
     "name": "stdout",
     "output_type": "stream",
     "text": [
      "\u001b[1m============================= test session starts ==============================\u001b[0m\n",
      "platform darwin -- Python 3.9.6, pytest-8.3.3, pluggy-1.5.0\n",
      "rootdir: /Users/pander14/GitHub/csc-487-instructor/tests\n",
      "plugins: anyio-4.6.0\n",
      "collected 2 items\n",
      "\n",
      "test_Assignment4.py \u001b[32m.\u001b[0m\u001b[32m.\u001b[0m\u001b[32m                                                   [100%]\u001b[0m\n",
      "\n",
      "\u001b[32m============================== \u001b[32m\u001b[1m2 passed\u001b[0m\u001b[32m in 0.85s\u001b[0m\u001b[32m ===============================\u001b[0m\n"
     ]
    }
   ],
   "source": [
    "%%bash -s \"$USERNAME\"\n",
    "\n",
    "cd ../tests #csc-487-$1/tests\n",
    "pytest test_Assignment4.py"
   ]
  },
  {
   "cell_type": "markdown",
   "metadata": {
    "id": "4wGFMbwGkhCB"
   },
   "source": [
    "# Colab End Section - Submit your code"
   ]
  },
  {
   "cell_type": "code",
   "execution_count": 35,
   "metadata": {
    "colab": {
     "base_uri": "https://localhost:8080/"
    },
    "id": "QKOunr7ZkhCB",
    "outputId": "1ab36086-82ed-4aef-bab1-d269355c170d"
   },
   "outputs": [
    {
     "name": "stdout",
     "output_type": "stream",
     "text": [
      "Agent pid 5184\n",
      "[main 5849bef] update\n",
      " 2 files changed, 42 insertions(+)\n",
      " create mode 100644 tests/answers_Assignment3.joblib\n",
      " create mode 100644 tests/test_Assignment3.py\n"
     ]
    },
    {
     "name": "stderr",
     "output_type": "stream",
     "text": [
      "Identity added: /root/.ssh/id_ed25519 (pauleanderson@gmail.com)\n",
      "# github.com:22 SSH-2.0-babeld-cd94d92b7\n",
      "remote: This repository moved. Please use the new location:        \n",
      "remote:   git@github.com:Anderson-Lab/csc-487-instructor.git        \n",
      "To github.com:anderson-lab/csc-487-instructor.git\n",
      "   b93bd8a..5849bef  main -> main\n"
     ]
    }
   ],
   "source": [
    "%%bash -s \"$USERNAME\"\n",
    "\n",
    "eval \"$(ssh-agent -s)\"\n",
    "\n",
    "ssh-add ~/.ssh/id_ed25519\n",
    "\n",
    "ssh-keyscan -t rsa github.com >> ~/.ssh/known_hosts\n",
    "\n",
    "cd csc-487-$1\n",
    "git add .\n",
    "git commit -m update\n",
    "git push\n",
    "#./command_line_sync.sh # if you want to sync"
   ]
  },
  {
   "cell_type": "code",
   "execution_count": null,
   "metadata": {
    "id": "a5vpjuemKmka"
   },
   "outputs": [],
   "source": []
  }
 ],
 "metadata": {
  "colab": {
   "provenance": []
  },
  "kernelspec": {
   "display_name": "Python 3 (ipykernel)",
   "language": "python",
   "name": "python3"
  },
  "language_info": {
   "codemirror_mode": {
    "name": "ipython",
    "version": 3
   },
   "file_extension": ".py",
   "mimetype": "text/x-python",
   "name": "python",
   "nbconvert_exporter": "python",
   "pygments_lexer": "ipython3",
   "version": "3.9.6"
  }
 },
 "nbformat": 4,
 "nbformat_minor": 4
}
