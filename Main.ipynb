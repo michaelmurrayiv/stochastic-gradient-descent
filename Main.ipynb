{
 "cells": [
  {
   "cell_type": "markdown",
   "metadata": {
    "id": "xAjgpcCeZunT"
   },
   "source": [
    "Exercises\n",
    "========================"
   ]
  },
  {
   "cell_type": "code",
   "execution_count": 154,
   "metadata": {},
   "outputs": [
    {
     "data": {
      "text/html": [
       "<div>\n",
       "<style scoped>\n",
       "    .dataframe tbody tr th:only-of-type {\n",
       "        vertical-align: middle;\n",
       "    }\n",
       "\n",
       "    .dataframe tbody tr th {\n",
       "        vertical-align: top;\n",
       "    }\n",
       "\n",
       "    .dataframe thead th {\n",
       "        text-align: right;\n",
       "    }\n",
       "</style>\n",
       "<table border=\"1\" class=\"dataframe\">\n",
       "  <thead>\n",
       "    <tr style=\"text-align: right;\">\n",
       "      <th></th>\n",
       "      <th>X1</th>\n",
       "      <th>X2</th>\n",
       "      <th>t</th>\n",
       "    </tr>\n",
       "  </thead>\n",
       "  <tbody>\n",
       "    <tr>\n",
       "      <th>0</th>\n",
       "      <td>0</td>\n",
       "      <td>0</td>\n",
       "      <td>1.00</td>\n",
       "    </tr>\n",
       "    <tr>\n",
       "      <th>1</th>\n",
       "      <td>0</td>\n",
       "      <td>1</td>\n",
       "      <td>1.50</td>\n",
       "    </tr>\n",
       "    <tr>\n",
       "      <th>2</th>\n",
       "      <td>1</td>\n",
       "      <td>0</td>\n",
       "      <td>1.75</td>\n",
       "    </tr>\n",
       "    <tr>\n",
       "      <th>3</th>\n",
       "      <td>1</td>\n",
       "      <td>1</td>\n",
       "      <td>2.25</td>\n",
       "    </tr>\n",
       "  </tbody>\n",
       "</table>\n",
       "</div>"
      ],
      "text/plain": [
       "   X1  X2     t\n",
       "0   0   0  1.00\n",
       "1   0   1  1.50\n",
       "2   1   0  1.75\n",
       "3   1   1  2.25"
      ]
     },
     "execution_count": 154,
     "metadata": {},
     "output_type": "execute_result"
    }
   ],
   "source": [
    "import pandas as pd\n",
    "data = pd.DataFrame([[0,0,1],[0,1,1.5],[1,0,1.75],[1,1,2.25]],columns=['X1','X2','t'])\n",
    "data"
   ]
  },
  {
   "cell_type": "code",
   "execution_count": 155,
   "metadata": {},
   "outputs": [
    {
     "data": {
      "text/html": [
       "<div>\n",
       "<style scoped>\n",
       "    .dataframe tbody tr th:only-of-type {\n",
       "        vertical-align: middle;\n",
       "    }\n",
       "\n",
       "    .dataframe tbody tr th {\n",
       "        vertical-align: top;\n",
       "    }\n",
       "\n",
       "    .dataframe thead th {\n",
       "        text-align: right;\n",
       "    }\n",
       "</style>\n",
       "<table border=\"1\" class=\"dataframe\">\n",
       "  <thead>\n",
       "    <tr style=\"text-align: right;\">\n",
       "      <th></th>\n",
       "      <th>X1</th>\n",
       "      <th>X2</th>\n",
       "    </tr>\n",
       "  </thead>\n",
       "  <tbody>\n",
       "    <tr>\n",
       "      <th>0</th>\n",
       "      <td>0</td>\n",
       "      <td>0</td>\n",
       "    </tr>\n",
       "    <tr>\n",
       "      <th>1</th>\n",
       "      <td>0</td>\n",
       "      <td>1</td>\n",
       "    </tr>\n",
       "    <tr>\n",
       "      <th>2</th>\n",
       "      <td>1</td>\n",
       "      <td>0</td>\n",
       "    </tr>\n",
       "    <tr>\n",
       "      <th>3</th>\n",
       "      <td>1</td>\n",
       "      <td>1</td>\n",
       "    </tr>\n",
       "  </tbody>\n",
       "</table>\n",
       "</div>"
      ],
      "text/plain": [
       "   X1  X2\n",
       "0   0   0\n",
       "1   0   1\n",
       "2   1   0\n",
       "3   1   1"
      ]
     },
     "execution_count": 155,
     "metadata": {},
     "output_type": "execute_result"
    }
   ],
   "source": [
    "X = data.iloc[:,:2]\n",
    "X"
   ]
  },
  {
   "cell_type": "markdown",
   "metadata": {},
   "source": [
    "Because this is a learning exercise, here are the answers we are going to hunt for using gradient descent. In other words, your last theta should be w and b given below."
   ]
  },
  {
   "cell_type": "code",
   "execution_count": 156,
   "metadata": {},
   "outputs": [
    {
     "data": {
      "text/plain": [
       "array([1.  , 1.5 , 1.75, 2.25])"
      ]
     },
     "execution_count": 156,
     "metadata": {},
     "output_type": "execute_result"
    }
   ],
   "source": [
    "import numpy as np\n",
    "w = np.array([0.75,0.5])\n",
    "b = 1\n",
    "y = np.dot(X,w)+b\n",
    "y"
   ]
  },
  {
   "cell_type": "markdown",
   "metadata": {},
   "source": [
    "Our y functions are:\n",
    "\n",
    "$y_1 = 0*w_1+0*w_2+b$\n",
    "\n",
    "$y_2 = 0*w_1+1*w_2+b$\n",
    "\n",
    "$y_3 = 1*w_1+0*w_2+b$\n",
    "\n",
    "$y_4 = 1*w_1+1*w_2+b$"
   ]
  },
  {
   "cell_type": "markdown",
   "metadata": {},
   "source": [
    "Our Loss functions are:\n",
    "\n",
    "$L_1 = (b - 1)^2$\n",
    "\n",
    "$L_2 = (1*w_2+b - 1.5)^2$\n",
    "\n",
    "$L_3 = (1*w_1+b - 1.75)^2$\n",
    "\n",
    "$L_4 = (1*w_1+1*w_2+b - 2.25)^2$"
   ]
  },
  {
   "cell_type": "markdown",
   "metadata": {},
   "source": [
    "Our derivatives are:\n",
    "\n",
    "$\\frac{\\delta L_1}{\\delta w1} = 0$\n",
    "\n",
    "$\\frac{\\delta L_2}{\\delta w1} = 0$\n",
    "\n",
    "$\\frac{\\delta L_3}{\\delta w1} = 2(w_1+b-1.75)$\n",
    "\n",
    "$\\frac{\\delta L_4}{\\delta w1} = 2(w_1+w_2+b-2.25)$"
   ]
  },
  {
   "cell_type": "markdown",
   "metadata": {},
   "source": [
    "$\\frac{\\delta L_1}{\\delta w2} = 0$\n",
    "\n",
    "$\\frac{\\delta L_2}{\\delta w2} = 2(w_2+b-1.5)$\n",
    "\n",
    "$\\frac{\\delta L_3}{\\delta w2} = 0$\n",
    "\n",
    "$\\frac{\\delta L_4}{\\delta w2} = 2(w_1+w_2+b-2.25)$"
   ]
  },
  {
   "cell_type": "markdown",
   "metadata": {},
   "source": [
    "$\\frac{\\delta L_1}{\\delta b} = 2(b-1)$\n",
    "\n",
    "$\\frac{\\delta L_2}{\\delta b} = 2(w_2+b-1.5)$\n",
    "\n",
    "$\\frac{\\delta L_3}{\\delta b} = 2(w_1+b-1.75)$\n",
    "\n",
    "$\\frac{\\delta L_4}{\\delta b} = 2(w_1+w_2+b-2.25)$"
   ]
  },
  {
   "cell_type": "markdown",
   "metadata": {},
   "source": [
    "## Gradient descent"
   ]
  },
  {
   "cell_type": "markdown",
   "metadata": {},
   "source": [
    "Our first take on gradient descent will assume you can symbolically find the gradient of a function. So you can use the derivatives I supplied above:\n",
    "\n",
    "Gradient descent says:\n",
    "\n",
    "$w_1 = w_1 - \\alpha \\frac{1}{4} \\left(\\sum_{i=1}^4\\frac{dF_i}{dw_1}\\right)$\n",
    "\n",
    "$w_2 = w_2 - \\alpha \\frac{1}{4} \\left(\\sum_{i=1}^4\\frac{dF_i}{dw_2}\\right)$\n",
    "\n",
    "$b = b - \\alpha \\frac{1}{4} \\left(\\sum_{i=1}^4\\frac{dF_i}{db}\\right)$\n",
    "\n",
    "We will set $\\alpha=0.1$.\n",
    "\n",
    "We will now define the derivatives programmatically:"
   ]
  },
  {
   "cell_type": "code",
   "execution_count": 157,
   "metadata": {},
   "outputs": [
    {
     "name": "stdout",
     "output_type": "stream",
     "text": [
      "This should be all zeros: [0, 0, 0.0, 0.0]\n",
      "This should be non-zero: [0, 0, -3.1287056115527556, -1.6429550305910006]\n",
      "This should be non-zero: [0, 0, 3.4538158500120684, 2.646630840469948]\n"
     ]
    }
   ],
   "source": [
    "import random\n",
    "gradients_w1 = [lambda w1,w2,b: 0, lambda w1,w2,b: 0, lambda w1,w2,b: 2*(w1+b-1.75), lambda w1,w2,b: 2*(w1+w2+b-2.25)]\n",
    "print('This should be all zeros:',[gradients_w1[i](0.75,0.5,1) for i in range(4)])\n",
    "print('This should be non-zero:',[gradients_w1[i](0.75-random.random(),0.5-random.random(),1-random.random()) for i in range(4)])\n",
    "print('This should be non-zero:',[gradients_w1[i](0.75+random.random(),0.5+random.random(),1+random.random()) for i in range(4)])"
   ]
  },
  {
   "cell_type": "code",
   "execution_count": 158,
   "metadata": {},
   "outputs": [
    {
     "name": "stdout",
     "output_type": "stream",
     "text": [
      "This should be all zeros: [0, 0.0, 0, 0.0]\n",
      "This should be non-zero: [0, -1.2804335703102692, 0, -3.258550017052838]\n",
      "This should be non-zero: [0, 2.206282228539724, 0, 2.5970123867346846]\n"
     ]
    }
   ],
   "source": [
    "import random\n",
    "gradients_w2 = [lambda w1,w2,b: 0, lambda w1,w2,b: 2*(w2+b-1.5), lambda w1,w2,b: 0, lambda w1,w2,b: 2*(w1+w2+b-2.25)]\n",
    "print('This should be all zeros:',[gradients_w2[i](0.75,0.5,1) for i in range(4)])\n",
    "print('This should be non-zero:',[gradients_w2[i](0.75-random.random(),0.5-random.random(),1-random.random()) for i in range(4)])\n",
    "print('This should be non-zero:',[gradients_w2[i](0.75+random.random(),0.5+random.random(),1+random.random()) for i in range(4)])"
   ]
  },
  {
   "cell_type": "code",
   "execution_count": 159,
   "metadata": {},
   "outputs": [
    {
     "name": "stdout",
     "output_type": "stream",
     "text": [
      "This should be all zeros: [0, 0.0, 0.0, 0.0]\n",
      "This should be non-zero: [-1.6547859803062728, -3.0986214883171455, -0.9281735260625572, -3.7664915165624118]\n",
      "This should be non-zero: [1.0219955738071422, 1.1687255725321206, 1.792809626116501, 3.912904293431964]\n"
     ]
    }
   ],
   "source": [
    "import random\n",
    "gradients_b = [lambda w1,w2,b: 2*(b-1), lambda w1,w2,b: 2*(w2+b-1.5), lambda w1,w2,b: 2*(w2+b-1.5), lambda w1,w2,b: 2*(w1+w2+b-2.25)]\n",
    "print('This should be all zeros:',[gradients_b[i](0.75,0.5,1) for i in range(4)])\n",
    "print('This should be non-zero:',[gradients_b[i](0.75-random.random(),0.5-random.random(),1-random.random()) for i in range(4)])\n",
    "print('This should be non-zero:',[gradients_b[i](0.75+random.random(),0.5+random.random(),1+random.random()) for i in range(4)])"
   ]
  },
  {
   "cell_type": "code",
   "execution_count": 160,
   "metadata": {},
   "outputs": [
    {
     "data": {
      "text/plain": [
       "0                                       [0.5, -0.2, 2.5]\n",
       "1                 [0.41000000000000003, -0.2675, 2.3175]\n",
       "2                          [0.350625, -0.3055, 2.186125]\n",
       "3                    [0.312225, -0.32359375, 2.08969375]\n",
       "4      [0.28821281249999997, -0.328315, 2.01718281249...\n",
       "                             ...                        \n",
       "496    [0.7499998348770656, 0.49999983487304656, 1.00...\n",
       "497    [0.7499998400594908, 0.4999998400556728, 1.000...\n",
       "498    [0.7499998450792664, 0.4999998450756393, 1.000...\n",
       "499    [0.749999849941497, 0.4999998499380513, 1.0000...\n",
       "500    [0.7499998546511271, 0.4999998546478536, 1.000...\n",
       "Length: 501, dtype: object"
      ]
     },
     "execution_count": 160,
     "metadata": {},
     "output_type": "execute_result"
    }
   ],
   "source": [
    "import gradient_descent\n",
    "thetas = gradient_descent.minimize_gradient_descent([gradients_w1,gradients_w2,gradients_b],0.1,[0.5,-0.2,2.5])\n",
    "pd.Series(thetas)\n",
    "# please note that I only add the pd.Series, so the output is nicely formatted"
   ]
  },
  {
   "cell_type": "code",
   "execution_count": 161,
   "metadata": {},
   "outputs": [
    {
     "name": "stdout",
     "output_type": "stream",
     "text": [
      "This should be all zeros, but is it...: [0, 0, 0.0, 0.0]\n",
      "This should be all zeros, but is it...: [0, 0.0, 0, 0.0]\n",
      "This should be all zeros, but is it...: [0, 0.0, 0.0, 0.0]\n"
     ]
    }
   ],
   "source": [
    "print('This should be all zeros, but is it...:',[gradients_w1[i](0.75,0.5,1) for i in range(4)])\n",
    "print('This should be all zeros, but is it...:',[gradients_w2[i](0.75,0.5,1) for i in range(4)])\n",
    "print('This should be all zeros, but is it...:',[gradients_b[i](0.75,0.5,1) for i in range(4)])"
   ]
  },
  {
   "cell_type": "code",
   "execution_count": 162,
   "metadata": {},
   "outputs": [
    {
     "data": {
      "text/plain": [
       "array([1.00000017, 1.50000003, 1.75000003, 2.24999988])"
      ]
     },
     "execution_count": 162,
     "metadata": {},
     "output_type": "execute_result"
    }
   ],
   "source": [
    "import numpy as np\n",
    "w_predicted = np.array(thetas[-1][:2])\n",
    "b_predicted = thetas[-1][-1]\n",
    "y = np.dot(X,w_predicted)+b_predicted\n",
    "y"
   ]
  },
  {
   "cell_type": "markdown",
   "metadata": {},
   "source": [
    "Now what if you can't or don't want to find the derivatives symbolically? \n",
    "You can always estimate the gradient analytically using the difference quotient:\n",
    "\n",
    "$[L(\\theta+h)-L(\\theta)]/h$,\n",
    "\n",
    "where h is a scalar parameter. Let's give it a shot with our functions. As a reminder, they are:\n",
    "\n",
    "$L_1 = (b - 1)^2$\n",
    "\n",
    "$L_2 = (1*w_2+b - 1.5)^2$\n",
    "\n",
    "$L_3 = (1*w_1+b - 1.75)^2$\n",
    "\n",
    "$L_4 = (1*w_1+1*w_2+b - 2.25)^2$"
   ]
  },
  {
   "cell_type": "code",
   "execution_count": 163,
   "metadata": {},
   "outputs": [
    {
     "data": {
      "text/plain": [
       "0"
      ]
     },
     "execution_count": 163,
     "metadata": {},
     "output_type": "execute_result"
    }
   ],
   "source": [
    "F1_func = lambda w1,w2,b: (b-1)**2\n",
    "F1_func(w[0],w[1],b)"
   ]
  },
  {
   "cell_type": "code",
   "execution_count": 164,
   "metadata": {},
   "outputs": [
    {
     "data": {
      "text/plain": [
       "0.0"
      ]
     },
     "execution_count": 164,
     "metadata": {},
     "output_type": "execute_result"
    }
   ],
   "source": [
    "F2_func = lambda w1,w2,b: (w2+b-1.5)**2\n",
    "F2_func(w[0],w[1],b)"
   ]
  },
  {
   "cell_type": "code",
   "execution_count": 165,
   "metadata": {},
   "outputs": [
    {
     "data": {
      "text/plain": [
       "0.0"
      ]
     },
     "execution_count": 165,
     "metadata": {},
     "output_type": "execute_result"
    }
   ],
   "source": [
    "F3_func = lambda w1,w2,b: (w1+b-1.75)**2\n",
    "F3_func(w[0],w[1],b)"
   ]
  },
  {
   "cell_type": "code",
   "execution_count": 166,
   "metadata": {},
   "outputs": [
    {
     "data": {
      "text/plain": [
       "0.0"
      ]
     },
     "execution_count": 166,
     "metadata": {},
     "output_type": "execute_result"
    }
   ],
   "source": [
    "F4_func = lambda w1,w2,b: (w1+w2+b-2.25)**2\n",
    "F4_func(w[0],w[1],b)"
   ]
  },
  {
   "cell_type": "code",
   "execution_count": 167,
   "metadata": {},
   "outputs": [
    {
     "data": {
      "text/plain": [
       "0.0"
      ]
     },
     "execution_count": 167,
     "metadata": {},
     "output_type": "execute_result"
    }
   ],
   "source": [
    "R_func = lambda w1,w2,b: 1/4*(F1_func(w1,w2,b)+F2_func(w1,w2,b)+F3_func(w1,w2,b)+F4_func(w1,w2,b))\n",
    "R_func(w[0],w[1],b)"
   ]
  },
  {
   "cell_type": "code",
   "execution_count": 168,
   "metadata": {},
   "outputs": [
    {
     "data": {
      "text/plain": [
       "0                                       [0.5, -0.2, 2.5]\n",
       "1      [0.4095000000000022, -0.2680000000000014, 2.29...\n",
       "2      [0.3520500000000022, -0.3040750000000035, 2.14...\n",
       "3      [0.3170437500000002, -0.3187750000000043, 2.03...\n",
       "4      [0.29725387500000044, -0.31927393750000405, 1....\n",
       "                             ...                        \n",
       "496    [0.7499998915095999, 0.49999989150558083, 0.99...\n",
       "497    [0.749999894914635, 0.4999998949108169, 0.9950...\n",
       "498    [0.7499998982128018, 0.4999998982091746, 0.995...\n",
       "499    [0.7499999014074543, 0.49999990140400846, 0.99...\n",
       "500    [0.7499999045018414, 0.4999999044985678, 0.995...\n",
       "Length: 501, dtype: object"
      ]
     },
     "execution_count": 168,
     "metadata": {},
     "output_type": "execute_result"
    }
   ],
   "source": [
    "thetas = gradient_descent.minimize_gradient_descent_analytically(R_func,0.1,[0.5,-0.2,2.5],0.01)\n",
    "pd.Series(thetas)"
   ]
  },
  {
   "cell_type": "code",
   "execution_count": 169,
   "metadata": {},
   "outputs": [
    {
     "data": {
      "text/plain": [
       "2.4999822240924255e-05"
      ]
     },
     "execution_count": 169,
     "metadata": {},
     "output_type": "execute_result"
    }
   ],
   "source": [
    "R_func(*thetas[-1]) # Shouldn't be too bad :)"
   ]
  },
  {
   "cell_type": "code",
   "execution_count": 170,
   "metadata": {
    "id": "QsH0n-lhLnRI"
   },
   "outputs": [],
   "source": [
    "# Good job!\n",
    "# Woohoo!"
   ]
  },
  {
   "cell_type": "markdown",
   "metadata": {
    "id": "s5Ar9RvAkhCB"
   },
   "source": [
    "# Run Tests"
   ]
  },
  {
   "cell_type": "code",
   "execution_count": 171,
   "metadata": {
    "colab": {
     "base_uri": "https://localhost:8080/"
    },
    "id": "LxBVRiFdkhCB",
    "outputId": "6ed719ad-3732-4e0c-9582-dc4a68e09940"
   },
   "outputs": [],
   "source": [
    "%%bash\n",
    "\n",
    "#pytest test_Assignment4.py"
   ]
  },
  {
   "cell_type": "code",
   "execution_count": 172,
   "metadata": {},
   "outputs": [],
   "source": [
    "# Now test the efficiency of each algorithm"
   ]
  },
  {
   "cell_type": "code",
   "execution_count": 173,
   "metadata": {},
   "outputs": [],
   "source": [
    "extra_rows = 16  # number of rows in dataset\n",
    "new_data = pd.DataFrame(np.random.rand(extra_rows, 3), columns=['X1', 'X2', 't'])\n",
    "\n",
    "large_data = pd.concat([data, new_data], ignore_index=True)\n",
    "\n",
    "#large_data"
   ]
  },
  {
   "cell_type": "code",
   "execution_count": 174,
   "metadata": {},
   "outputs": [
    {
     "data": {
      "text/plain": [
       "array([1.        , 1.5       , 1.75      , 2.25      , 1.55156862,\n",
       "       1.38967602, 1.88185694, 1.74385132, 1.84441468, 1.60604017,\n",
       "       1.4099346 , 1.62385938, 1.32229367, 1.85089256, 1.81503873,\n",
       "       1.76349357, 1.2167551 , 2.15369753, 1.4604366 , 1.94659738])"
      ]
     },
     "execution_count": 174,
     "metadata": {},
     "output_type": "execute_result"
    }
   ],
   "source": [
    "# calculate loss functions/gradients\n",
    "\n",
    "X = large_data.iloc[:,:2]\n",
    "\n",
    "w = np.array([0.75,0.5])\n",
    "b = 1\n",
    "y = np.dot(X,w)+b\n",
    "y # expected results from plugging in w1, w2 and b into equations\n"
   ]
  },
  {
   "cell_type": "code",
   "execution_count": 175,
   "metadata": {},
   "outputs": [
    {
     "name": "stdout",
     "output_type": "stream",
     "text": [
      "Gradients for w1: [0.0, 0.0, 0.0, 0.0, 1.1415262165014788, 0.3254012945995181, 1.4097435699847698, 1.7772726831207695, 1.9474974078214613, 1.2988474404419639, 0.1218922231638888, 1.0889378015781574, 0.7485973806700613, 1.5523024746132263, 1.2830753453641113, 1.6039812433859784, 0.06492062978539338, 3.2709653019012865, 0.9544630025291895, 2.8643911587434068]\n",
      "Gradients for w2: [0.0, 0.0, 0.0, 0.0, 1.2973659320134538, 0.18343488324289475, 1.7847699936389514, 1.73374859806958, 2.296003121865564, 0.6202112381493882, 1.4887409368509665, 0.875089383756513, 0.4860806409297037, 1.0840106632426252, 2.8953203817701803, 0.12480122021526802, 0.10317982218661081, 3.1049268907328145, 0.029910646074350577, 2.987020875064619]\n",
      "Gradients for b: [0.0, 0.0, 0.0, 0.0, 2.728269125488396, 0.8616604526525593, 2.210894525597248, 2.9573501475180954, 3.0892696217723072, 2.119069419192137, 2.0388365189592426, 2.0104659567997856, 2.4961345572476707, 2.005226355781753, 2.9568738554889418, 1.65736372017978, 0.4626437066054083, 3.472042999547921, 1.5871947835517082, 3.8472574383105362]\n"
     ]
    }
   ],
   "source": [
    "\n",
    "# Loss function Ln = (X1[n] * w1 + X2[n] * w2 + b - y[n])^2\n",
    "\n",
    "# dLn/dw1 = dLn/dw2 = dLn/db = 2(X1[n] * w1 + X2[n] * w2 + b - y[n])\n",
    "def gradient_w1(row, w1, w2, b):\n",
    "    return 2 * (row['X1'] * w1 + row['X2'] * w2 + b - row['t']) * row['X1']\n",
    "\n",
    "def gradient_w2(row, w1, w2, b):\n",
    "    return 2 * (row['X1'] * w1 + row['X2'] * w2 + b - row['t']) * row['X2']\n",
    "\n",
    "def gradient_b(row, w1, w2, b):\n",
    "    return 2 * (row['X1'] * w1 + row['X2'] * w2 + b - row['t'])\n",
    "\n",
    "# Generate gradient lambda functions\n",
    "gradients_w1 = [\n",
    "    lambda w1=w[0], w2=w[1], b=b, row=row: 2 * (row['X1'] * w1 + row['X2'] * w2 + b - row['t']) * row['X1']\n",
    "    for _, row in large_data.iterrows()\n",
    "]\n",
    "\n",
    "gradients_w2 = [\n",
    "    lambda w1=w[0], w2=w[1], b=b, row=row: 2 * (row['X1'] * w1 + row['X2'] * w2 + b - row['t']) * row['X2']\n",
    "    for _, row in large_data.iterrows()\n",
    "]\n",
    "\n",
    "gradients_b = [\n",
    "    lambda w1=w[0], w2=w[1], b=b, row=row: 2 * (row['X1'] * w1 + row['X2'] * w2 + b - row['t'])\n",
    "    for _, row in large_data.iterrows()\n",
    "]\n",
    "\n",
    "# Example of evaluating the first few gradient functions\n",
    "print(\"Gradients for w1:\", [grad(w[0], w[1], b) for grad in gradients_w1])\n",
    "print(\"Gradients for w2:\", [grad(w[0], w[1], b) for grad in gradients_w2])\n",
    "print(\"Gradients for b:\", [grad(w[0], w[1], b) for grad in gradients_b])\n"
   ]
  },
  {
   "cell_type": "code",
   "execution_count": 204,
   "metadata": {},
   "outputs": [],
   "source": [
    "# test new dataset\n",
    "import gradient_descent\n",
    "import time\n",
    "\n",
    "def test_algorithm(name, function, gradients, learning_rate, start_vals, tol, max_iter, print=False):\n",
    "    if print:\n",
    "        print(f\"Running {name}...\\n --\")\n",
    "    start_time = time.time()\n",
    "    thetas = function([gradients_w1,gradients_w2,gradients_b],learning_rate,start_vals, tol, max_iter)\n",
    "    end_time = time.time()\n",
    "    exec_time = time.time() - start_time\n",
    "    if print:\n",
    "        print(\" -- execution time: {:.4f} seconds\".format(exec_time))\n",
    "    values = pd.Series(thetas)\n",
    "    num_iter = len(values)\n",
    "    if print:\n",
    "        print(\" -- iterations:\", num_iter, \" --\")\n",
    "    return [num_iter, exec_time]\n",
    "    "
   ]
  },
  {
   "cell_type": "code",
   "execution_count": 227,
   "metadata": {},
   "outputs": [
    {
     "name": "stdout",
     "output_type": "stream",
     "text": [
      "Test 0\n",
      "Test 10\n",
      "Test 20\n",
      "Test 30\n",
      "Test 40\n"
     ]
    }
   ],
   "source": [
    "# variables \n",
    "learning_rate = 0.1\n",
    "start_vals = [0.5, -0.2, 2.5]\n",
    "tol = 1e-3\n",
    "max_iter = 100000\n",
    "print_val = False\n",
    "\n",
    "values_gd, values_sgd, values_adam = [],[],[]\n",
    "\n",
    "for i in range(50):\n",
    "    if i%10 == 0 or print_val == True:\n",
    "        print(\"Test\",i)\n",
    "    values_gd.append(test_algorithm(\"Gradient Descent\", gradient_descent.minimize_gradient_descent, [gradients_w1, gradients_w2, gradients_b], learning_rate, start_vals, tol, max_iter, print_val))\n",
    "    values_sgd.append(test_algorithm(\"Stochastic Gradient Descent\", gradient_descent.minimize_stochastic_gradient_descent, [gradients_w1, gradients_w2, gradients_b], learning_rate, start_vals, tol, max_iter, print_val))\n",
    "    values_adam.append(test_algorithm(\"Adam Optimizer\", gradient_descent.minimize_sgd_adam, [gradients_w1, gradients_w2, gradients_b], learning_rate, start_vals, tol, max_iter, print_val))\n"
   ]
  },
  {
   "cell_type": "code",
   "execution_count": 228,
   "metadata": {},
   "outputs": [
    {
     "data": {
      "image/png": "[encoded data removed]",
      "text/plain": [
       "<Figure size 640x480 with 1 Axes>"
      ]
     },
     "metadata": {},
     "output_type": "display_data"
    },
    {
     "data": {
      "image/png": "[encoded data removed]",
      "text/plain": [
       "<Figure size 640x480 with 1 Axes>"
      ]
     },
     "metadata": {},
     "output_type": "display_data"
    },
    {
     "data": {
      "image/png": "[encoded data removed]",
      "text/plain": [
       "<Figure size 640x480 with 1 Axes>"
      ]
     },
     "metadata": {},
     "output_type": "display_data"
    }
   ],
   "source": [
    "import matplotlib.pyplot as plt\n",
    "\n",
    "def plot_data(data, name):\n",
    "    x_values = [item[0] for item in data]\n",
    "    y_values = [item[1] for item in data]\n",
    "    \n",
    "    plt.scatter(x_values, y_values)\n",
    "    \n",
    "    plt.xlabel('Iterations')\n",
    "    plt.ylabel('Time')\n",
    "    plt.title(f'{name}: Iterations vs. Execution Time (s)')\n",
    "    return plt\n",
    "    \n",
    "plt_gd = plot_data(values_gd, \"Gradient Descent\")\n",
    "plt_gd.show()\n",
    "plt_sgd = plot_data(values_sgd, \"Stochastic Gradient Descent\")\n",
    "plt_sgd.show()\n",
    "plt_adam = plot_data(values_adam, \"Adam Optimizer\")\n",
    "plt_adam.show()\n"
   ]
  },
  {
   "cell_type": "code",
   "execution_count": 239,
   "metadata": {},
   "outputs": [
    {
     "name": "stdout",
     "output_type": "stream",
     "text": [
      "Gradient Descent\n",
      "-- average time (s): 0.0115\n",
      "-- average iter: 56\n",
      "-- time/iter (s): 2.0516e-04\n",
      "Stochastic Gradient Descent\n",
      "-- average time (s): 0.0519\n",
      "-- average iter: 4116\n",
      "-- time/iter (s): 1.2615e-05\n",
      "Adam Optimizer\n",
      "-- average time (s): 0.3282\n",
      "-- average iter: 23293\n",
      "-- time/iter (s): 1.4088e-05\n"
     ]
    }
   ],
   "source": [
    "# Clearly, there is a linear relationship between time and number of iterations. Now to compare the averages for each algorithm:\n",
    "\n",
    "def print_averages(data, name):\n",
    "    print(name)\n",
    "    i = 0\n",
    "    iter = 0\n",
    "    time = 0\n",
    "    for value in data:\n",
    "        i += 1\n",
    "        iter += value[0]\n",
    "        time += value[1]\n",
    "    avg_t = time/i\n",
    "    print(f'-- average time (s): {avg_t:.4f}')\n",
    "    avg_i = iter/i\n",
    "    print(f'-- average iter: {avg_i:.0f}')\n",
    "    print(f'-- time/iter (s): {(avg_t / avg_i):.4e}')\n",
    "\n",
    "print_averages(values_gd, \"Gradient Descent\")\n",
    "print(\"\n",
    "print_averages(values_sgd, \"Stochastic Gradient Descent\")\n",
    "print_averages(values_adam, \"Adam Optimizer\")"
   ]
  },
  {
   "cell_type": "markdown",
   "metadata": {
    "id": "4wGFMbwGkhCB"
   },
   "source": [
    "# Push code to repo"
   ]
  },
  {
   "cell_type": "code",
   "execution_count": 58,
   "metadata": {
    "colab": {
     "base_uri": "https://localhost:8080/"
    },
    "id": "QKOunr7ZkhCB",
    "outputId": "1ab36086-82ed-4aef-bab1-d269355c170d"
   },
   "outputs": [
    {
     "name": "stdout",
     "output_type": "stream",
     "text": [
      "[main 9911ec2] update\n",
      " 8 files changed, 17 insertions(+), 17 deletions(-)\n"
     ]
    },
    {
     "name": "stderr",
     "output_type": "stream",
     "text": [
      "To https://github.com/michaelmurrayiv/stochastic-gradient-descent.git\n",
      "   db88ea6..9911ec2  main -> main\n"
     ]
    }
   ],
   "source": [
    "%%bash \n",
    "\n",
    "git add .\n",
    "git commit -m \"update\"\n",
    "git push"
   ]
  },
  {
   "cell_type": "code",
   "execution_count": null,
   "metadata": {
    "id": "a5vpjuemKmka"
   },
   "outputs": [],
   "source": []
  }
 ],
 "metadata": {
  "colab": {
   "provenance": []
  },
  "kernelspec": {
   "display_name": "Python 3 (ipykernel)",
   "language": "python",
   "name": "python3"
  },
  "language_info": {
   "codemirror_mode": {
    "name": "ipython",
    "version": 3
   },
   "file_extension": ".py",
   "mimetype": "text/x-python",
   "name": "python",
   "nbconvert_exporter": "python",
   "pygments_lexer": "ipython3",
   "version": "3.10.7"
  }
 },
 "nbformat": 4,
 "nbformat_minor": 4
}
